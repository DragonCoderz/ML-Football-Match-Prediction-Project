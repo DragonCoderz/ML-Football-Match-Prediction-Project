{
  "nbformat": 4,
  "nbformat_minor": 0,
  "metadata": {
    "colab": {
      "provenance": []
    },
    "kernelspec": {
      "name": "python3",
      "display_name": "Python 3"
    },
    "language_info": {
      "name": "python"
    },
    "accelerator": "GPU"
  },
  "cells": [
    {
      "cell_type": "code",
      "metadata": {
        "colab": {
          "base_uri": "https://localhost:8080/"
        },
        "id": "iVvlROEqhZHv",
        "outputId": "874e845d-a96d-432a-8cf2-0f73f07500e9"
      },
      "source": [
        "# Install the college football data api\n",
        "# https://github.com/CFBD/cfbd-python\n",
        "!pip install cfbd"
      ],
      "execution_count": null,
      "outputs": [
        {
          "output_type": "stream",
          "name": "stdout",
          "text": [
            "Requirement already satisfied: cfbd in /usr/local/lib/python3.7/dist-packages (4.3.2)\n",
            "Requirement already satisfied: certifi>=2017.4.17 in /usr/local/lib/python3.7/dist-packages (from cfbd) (2021.10.8)\n",
            "Requirement already satisfied: six>=1.10 in /usr/local/lib/python3.7/dist-packages (from cfbd) (1.15.0)\n",
            "Requirement already satisfied: urllib3>=1.23 in /usr/local/lib/python3.7/dist-packages (from cfbd) (1.24.3)\n",
            "Requirement already satisfied: python-dateutil>=2.1 in /usr/local/lib/python3.7/dist-packages (from cfbd) (2.8.2)\n"
          ]
        }
      ]
    },
    {
      "cell_type": "code",
      "metadata": {
        "id": "FY2V8TKKXZrf"
      },
      "source": [
        "# The problem: You are a football coach, and you want to know whether or not a run play \n",
        "# or pass play will be succesful given the situation you are in. YOu know that certain opponents are stronger than others\n",
        "# and that your team has not been doing well. In this problem, we will determine whether or not a run play or pass would be successful\n",
        "# given the situation\n",
        "\n",
        "# Example: Georgia Tech vs. Virginia Tech\n",
        "# Situation: 1st and 10 on the 25 yard line, 75 yards to go, 5 minutes left to go in the first quarter. \n",
        "# Call run play or pass (throwing football) play?\n",
        "# Start with binary: -1 (failure), 1 (success) [NB, NN]\n",
        "# Try 4: -2 (very bad), -1 (bad), 1 (good), 2 (very good) [NB, NN]\n",
        "# Try 6: -3 (horrible, pick six), -2 (very bad, interception/fumble), -1 (bad, lost yards), 1 (good, 10 yards),\n",
        "# 2 (very good, big game), 3 (best, touchdown) [NB, NN]"
      ],
      "execution_count": null,
      "outputs": []
    },
    {
      "cell_type": "code",
      "metadata": {
        "id": "NsksB-UVm85X",
        "colab": {
          "base_uri": "https://localhost:8080/"
        },
        "outputId": "b4117568-4d0d-40b3-af56-28880ad7c759"
      },
      "source": [
        "# Necessary imports\n",
        "import cfbd\n",
        "import tensorflow as tf\n",
        "import numpy as np\n",
        "import pandas as pd\n",
        "from sklearn.model_selection import train_test_split\n",
        "from google.colab import drive\n",
        "drive.mount('/content/drive')"
      ],
      "execution_count": null,
      "outputs": [
        {
          "output_type": "stream",
          "name": "stdout",
          "text": [
            "Drive already mounted at /content/drive; to attempt to forcibly remount, call drive.mount(\"/content/drive\", force_remount=True).\n"
          ]
        }
      ]
    },
    {
      "cell_type": "code",
      "metadata": {
        "id": "jFDVSfE8iktv"
      },
      "source": [
        "# Set up the API access\n",
        "configuration = cfbd.Configuration()\n",
        "configuration.api_key['Authorization'] = \"UIJ0zjCWpI/TbPN1yO/ykcCd+dnv+Hh3tUyRHPYPhg/c+aRj2gpvjq3TZgRMmP4J\"\n",
        "configuration.api_key_prefix['Authorization'] = \"Bearer\"\n",
        "\n",
        "apiClient = cfbd.ApiClient(configuration)"
      ],
      "execution_count": null,
      "outputs": []
    },
    {
      "cell_type": "code",
      "metadata": {
        "colab": {
          "base_uri": "https://localhost:8080/"
        },
        "id": "B6ap6q0n2GEH",
        "outputId": "bc8d8f83-fd7b-4f45-e31e-76957d0a297d"
      },
      "source": [
        "# Get all the teams (as well as relavent offensive and defensive statistics)\n",
        "allTeams = cfbd.api.TeamsApi(apiClient)\n",
        "teams = allTeams.get_fbs_teams()\n",
        "\n",
        "allRatings = cfbd.api.RatingsApi(apiClient)\n",
        "sp_ratings = allRatings.get_sp_ratings(year=2021)\n",
        "\n",
        "allMetrics = cfbd.api.MetricsApi(apiClient)\n",
        "\n",
        "TEAM_INDEX = {}\n",
        "TEAM_RATING = {}\n",
        "TEAM_OFFENSE = {}\n",
        "TEAM_DEFENSE = {}\n",
        "\n",
        "for n, data in enumerate(teams):\n",
        "    TEAM_INDEX[data.school] = n\n",
        "\n",
        "for n, data in enumerate(sp_ratings):\n",
        "    TEAM_RATING[data.team] = data.rating\n",
        "    TEAM_OFFENSE[data.team] = data.offense['rating']\n",
        "    TEAM_DEFENSE[data.team] = data.defense['rating']\n",
        "\n",
        "print(TEAM_RATING['Georgia Tech'])\n",
        "print(TEAM_OFFENSE['Georgia Tech'])\n",
        "print(TEAM_DEFENSE['Georgia Tech'])\n",
        "\n",
        "print(TEAM_RATING['Georgia'])\n",
        "print(TEAM_OFFENSE['Georgia'])\n",
        "print(TEAM_DEFENSE['Georgia'])"
      ],
      "execution_count": null,
      "outputs": [
        {
          "output_type": "stream",
          "name": "stdout",
          "text": [
            "-5.8\n",
            "27.4\n",
            "32.1\n",
            "31.7\n",
            "41.1\n",
            "10.5\n"
          ]
        }
      ]
    },
    {
      "cell_type": "code",
      "metadata": {
        "id": "zLxPDfq8nNS2"
      },
      "source": [
        "# offense_is_home = (plays.offense == play.home)\n",
        "# plays.period, plays.clock['minutes'], plays.clock['seconds'] (Time left on clock)\n",
        "# Score differential: plays.offense_score - plays.defense_score\n",
        "# plays.down, plays.distance, plays.yards_to_go (1st and 10, 75 yards to go)\n",
        "# TWO FEATURES: ppa < 0 (Bad) ppa >= 0 (Good)\n",
        "# FOUR FEATURES: ppa <= -2 (Very Bad), ppa < 0 (Bad), ppa > 0 (Good), ppa >= 2 (Good)\n",
        "# SIX FEATURES: ppa <= -3 (Horrible), -2 (Very Bad), 0 (Bad), 0 (Good), 2 (Very Good), 3 (Excellent)\n",
        "# Play Type = 'Pass Incompletion' (PASS), \n",
        "\n",
        "# If ppa data doesn't exist for a play => ppa rules\n",
        "# TOUCHDOWN: 1, 2, 3\n",
        "# 1st down: 1, 1, 2\n",
        "# Successful play: 1, 1, 1\n",
        "# No gain: -1, -1, -1\n",
        "# Lost yardage: -1, -1, -2\n",
        "# Sack: -1, -2, -3\n",
        "# Punt: -1, -1, -2\n",
        "# Pick Six/Scoop and Score: -1, -2, -3\n",
        "\n",
        "# plays.play_type\n",
        "# Run = 'Rush', 'Rushing Touchdown', 'Fumble Recovery (Own), 'Fumble Recovery (Opponent)',\n",
        "# 'Fumble Return Touchdown'\n",
        "# Pass = 'Pass Reception', 'Pass Incompletion', 'Sack', 'Passing Touchdown',\n",
        "# 'Pass Interception Return', 'Interception Return Touchdown'\n",
        "rushes = ['Rush', 'Rushing Touchdown', 'Fumble Recovery (Own)', 'Fumble Recovery (Opponent)', 'Fumble Return Touchdown']\n",
        "passes = ['Pass Reception', 'Pass Incompletion', 'Sack', 'Passing Touchdown', 'Pass Interception Return', 'Interception Return Touchdown']\n",
        "successful = ['Rushing Touchdown', 'Passing Touchdown']\n",
        "failure = ['Fumble Recovery (Opponent)', 'Fumble Return Touchdown', 'Pass Incompletion', 'Sack', \\\n",
        "           'Pass Interception Return', 'Interception Return Touchdown']"
      ],
      "execution_count": null,
      "outputs": []
    },
    {
      "cell_type": "code",
      "metadata": {
        "id": "3zaQ_G3cXqAg",
        "colab": {
          "base_uri": "https://localhost:8080/",
          "height": 270
        },
        "outputId": "e135a74d-9da0-4f6d-d3a4-819ab2e3e017"
      },
      "source": [
        "# Get the play-by-play data (Only need to run once)\n",
        "allPlays = cfbd.api.PlaysApi(apiClient)\n",
        "\n",
        "X = []\n",
        "Y = []\n",
        "\n",
        "for w in range(1, 14):\n",
        "    plays = allPlays.get_plays(year=2021, week=w)\n",
        "    for i in range(len(plays)):\n",
        "        play = plays[i]\n",
        "        # Determine play_type (0 or 1) [0 = rush, 1 = pass]\n",
        "        play_type = play.play_type\n",
        "        if play_type in rushes:\n",
        "            is_pass = 0\n",
        "        elif play_type in passes:\n",
        "            is_pass = 1\n",
        "        else:\n",
        "            continue\n",
        "        # Quarter of game\n",
        "        quarter = play.period\n",
        "        # Determine time left in quarter (in minutes)\n",
        "        time_left = play.clock['minutes'] + play.clock['seconds'] / 60.0\n",
        "        # Score differential\n",
        "        score_diff = play.offense_score - play.defense_score\n",
        "        # Determine the down\n",
        "        down = play.down\n",
        "        # Determine the distance\n",
        "        dist = play.distance\n",
        "        # Determine the yards to go\n",
        "        yards = play.yards_to_goal\n",
        "        # Determine the offensive efficiency of offense\n",
        "        offense = play.offense\n",
        "        if offense not in TEAM_INDEX.keys():\n",
        "            continue\n",
        "        off_rating = TEAM_OFFENSE[offense]\n",
        "        # Determine the defensive efficiency of defense\n",
        "        defense = play.defense\n",
        "        if defense not in TEAM_INDEX.keys():\n",
        "            continue\n",
        "        def_rating = TEAM_DEFENSE[defense]\n",
        "        # Is the offense at home\n",
        "        if offense == play.home:\n",
        "            is_home = 1\n",
        "        else:\n",
        "            is_home = 0\n",
        "\n",
        "        ppa = play.ppa\n",
        "\n",
        "        if ppa is None:\n",
        "            continue\n",
        "        else:\n",
        "            if ppa > 0:\n",
        "                success = 1\n",
        "            else:\n",
        "                success = 0\n",
        "        \n",
        "        X.append([is_pass, quarter / 4.0, time_left / 15.0, score_diff / 7.0, down / 4.0, dist / 10.0, yards / 100.0, off_rating / 50.0, def_rating / 50.0, is_home])\n",
        "        Y.append([success])\n",
        "\n",
        "np.save('/content/drive/My Drive/Colab Notebooks/features.npy', X)\n",
        "np.save('/content/drive/My Drive/Colab Notebooks/labels.npy', Y)"
      ],
      "execution_count": null,
      "outputs": [
        {
          "output_type": "error",
          "ename": "NameError",
          "evalue": "ignored",
          "traceback": [
            "\u001b[0;31m---------------------------------------------------------------------------\u001b[0m",
            "\u001b[0;31mNameError\u001b[0m                                 Traceback (most recent call last)",
            "\u001b[0;32m<ipython-input-6-912b17f06ed8>\u001b[0m in \u001b[0;36m<module>\u001b[0;34m()\u001b[0m\n\u001b[1;32m     31\u001b[0m         \u001b[0;31m# Determine the offensive efficiency of offense\u001b[0m\u001b[0;34m\u001b[0m\u001b[0;34m\u001b[0m\u001b[0;34m\u001b[0m\u001b[0m\n\u001b[1;32m     32\u001b[0m         \u001b[0moffense\u001b[0m \u001b[0;34m=\u001b[0m \u001b[0mplay\u001b[0m\u001b[0;34m.\u001b[0m\u001b[0moffense\u001b[0m\u001b[0;34m\u001b[0m\u001b[0;34m\u001b[0m\u001b[0m\n\u001b[0;32m---> 33\u001b[0;31m         \u001b[0;32mif\u001b[0m \u001b[0moffense\u001b[0m \u001b[0;32mnot\u001b[0m \u001b[0;32min\u001b[0m \u001b[0mTEAM_INDEX\u001b[0m\u001b[0;34m.\u001b[0m\u001b[0mkeys\u001b[0m\u001b[0;34m(\u001b[0m\u001b[0;34m)\u001b[0m\u001b[0;34m:\u001b[0m\u001b[0;34m\u001b[0m\u001b[0;34m\u001b[0m\u001b[0m\n\u001b[0m\u001b[1;32m     34\u001b[0m             \u001b[0;32mcontinue\u001b[0m\u001b[0;34m\u001b[0m\u001b[0;34m\u001b[0m\u001b[0m\n\u001b[1;32m     35\u001b[0m         \u001b[0moff_rating\u001b[0m \u001b[0;34m=\u001b[0m \u001b[0mTEAM_OFFENSE\u001b[0m\u001b[0;34m[\u001b[0m\u001b[0moffense\u001b[0m\u001b[0;34m]\u001b[0m\u001b[0;34m\u001b[0m\u001b[0;34m\u001b[0m\u001b[0m\n",
            "\u001b[0;31mNameError\u001b[0m: name 'TEAM_INDEX' is not defined"
          ]
        }
      ]
    },
    {
      "cell_type": "code",
      "source": [
        "X = np.load('/content/drive/My Drive/Colab Notebooks/features.npy')\n",
        "Y = np.load('/content/drive/My Drive/Colab Notebooks/labels.npy')\n",
        "\n",
        "ndata = len(X)\n",
        "nfeat = len(X[0])\n",
        "\n",
        "# X2 and Y2 are for logistic regression\n",
        "X2 = np.zeros((ndata, nfeat+1))\n",
        "for i in range(ndata):\n",
        "    X2[i,:nfeat] = np.array(X[i], dtype='float64')\n",
        "    X2[i,nfeat] = 1\n",
        "\n",
        "Y2 = np.array(Y, dtype='int32').flatten()\n",
        "for i in range(len(Y2)):\n",
        "    if Y2[i] == 0:\n",
        "        Y2[i] = -1\n",
        "        \n",
        "X2_train, X2_test, Y2_train, Y2_test = train_test_split(X2, Y2, test_size=0.2)"
      ],
      "metadata": {
        "id": "qOdPesskEyBl"
      },
      "execution_count": null,
      "outputs": []
    },
    {
      "cell_type": "code",
      "source": [
        "# Logistic regression (Code from Project 2 (Linear Models, BASELINE))\n",
        "def LogisticLoss(X, Y, W, lmda):\n",
        "    #TODO: Compute (regularized) Logistic Loss\n",
        "    ndata = X.shape[0]\n",
        "    loss_vector = np.log(1.0 + np.exp(-Y * X.dot(W)))\n",
        "    loss = np.sum(loss_vector) + lmda * W.dot(W)\n",
        "    return loss\n",
        "\n",
        "# Returns the gradient for a single training example\n",
        "def LogisticGradient(Xl, Yl, W, lmda):\n",
        "    power = -Yl * np.dot(W, Xl)\n",
        "    grad = -Yl * np.exp(power) / (1.0 + np.exp(power)) * Xl + 2.0 * lmda * W\n",
        "    return grad\n",
        "\n",
        "def SgdLogistic(X, Y, maxIter, learningRate, lmda):\n",
        "    ndata, nfeat = X.shape[0], X.shape[1]\n",
        "    W = np.zeros(nfeat)\n",
        "    #TODO: implement stochastic gradient descent using the logistic loss function\n",
        "    for iter in range(maxIter):\n",
        "        for l in range(ndata):\n",
        "            W -= learningRate * LogisticGradient(X[l], Y[l], W, lmda)\n",
        "        loss = LogisticLoss(X, Y, W, lmda)\n",
        "        print(f\"EPOCH: {iter}, LOSS: {loss:.4f}\")\n",
        "    return W\n",
        "\n",
        "def EvalWeights(X, Y, W):\n",
        "    nCorrect, nIncorrect = 0, 0\n",
        "    for i in range(len(X)):\n",
        "        y_hat = np.sign(X[i].dot(W))\n",
        "        if y_hat == 0.0:\n",
        "            y_hat = -1.0\n",
        "\n",
        "        if y_hat == Y[i]:\n",
        "            nCorrect += 1\n",
        "        else:\n",
        "            nIncorrect += 1\n",
        "    return nCorrect / (nCorrect + nIncorrect)\n",
        "\n",
        "def EvalNeg(X, Y):\n",
        "    numCorrect = 0\n",
        "    for i in range(len(X)):\n",
        "        if Y[i] == -1:\n",
        "            numCorrect += 1\n",
        "    return numCorrect / len(X)"
      ],
      "metadata": {
        "id": "ha9gdENwEKmw"
      },
      "execution_count": null,
      "outputs": []
    },
    {
      "cell_type": "code",
      "source": [
        "W = SgdLogistic(X2_train, Y2_train, maxIter=20, learningRate=1e-3, lmda=0.0)\n",
        "base_train = EvalNeg(X2_train, Y2_train)\n",
        "acc_train = EvalWeights(X2_train, Y2_train, W)\n",
        "print(f'BaseTrain: {base_train:.4f}')\n",
        "print(f'BaseAccuracy: {acc_train:.4f}')\n",
        "base = EvalNeg(X2_test, Y2_test)\n",
        "acc = EvalWeights(X2_test, Y2_test, W)\n",
        "print(f'Base: {base:.4f}')\n",
        "print(f'Accuracy: {acc:.4f}')"
      ],
      "metadata": {
        "colab": {
          "base_uri": "https://localhost:8080/"
        },
        "id": "BMvPgpyfICqq",
        "outputId": "ca5b8450-b874-41bf-8d83-1e907cfdc96b"
      },
      "execution_count": null,
      "outputs": [
        {
          "output_type": "stream",
          "name": "stdout",
          "text": [
            "EPOCH: 0, LOSS: 51801.4909\n",
            "EPOCH: 1, LOSS: 51724.9379\n",
            "EPOCH: 2, LOSS: 51670.6794\n",
            "EPOCH: 3, LOSS: 51629.6624\n",
            "EPOCH: 4, LOSS: 51598.3537\n",
            "EPOCH: 5, LOSS: 51574.3930\n",
            "EPOCH: 6, LOSS: 51556.0301\n",
            "EPOCH: 7, LOSS: 51541.9413\n",
            "EPOCH: 8, LOSS: 51531.1206\n",
            "EPOCH: 9, LOSS: 51522.8012\n",
            "EPOCH: 10, LOSS: 51516.3984\n",
            "EPOCH: 11, LOSS: 51511.4652\n",
            "EPOCH: 12, LOSS: 51507.6600\n",
            "EPOCH: 13, LOSS: 51504.7215\n",
            "EPOCH: 14, LOSS: 51502.4493\n",
            "EPOCH: 15, LOSS: 51500.6899\n",
            "EPOCH: 16, LOSS: 51499.3257\n",
            "EPOCH: 17, LOSS: 51498.2662\n",
            "EPOCH: 18, LOSS: 51497.4419\n",
            "EPOCH: 19, LOSS: 51496.7994\n",
            "BaseTrain: 0.5438\n",
            "BaseAccuracy: 0.5607\n",
            "Base: 0.5458\n",
            "Accuracy: 0.5634\n"
          ]
        }
      ]
    },
    {
      "cell_type": "code",
      "source": [
        "device_name = tf.test.gpu_device_name()\n",
        "if device_name != '/device:GPU:0':\n",
        "    raise SystemError('GPU device not found')\n",
        "\n",
        "with tf.device('/device:GPU:0'):\n",
        "    X1 = np.array(X, dtype='float64')\n",
        "    Y1 = np.array(Y, dtype='int32')\n",
        "\n",
        "    X1_train, X1_test, Y1_train, Y1_test = train_test_split(X1, Y1, test_size=0.2)"
      ],
      "metadata": {
        "id": "jfGkH4LXajde"
      },
      "execution_count": null,
      "outputs": []
    },
    {
      "cell_type": "code",
      "source": [
        "from tensorflow.keras.callbacks import History\n",
        "\n",
        "def make_and_train_model(Xt, Xv, Yt, Yv):\n",
        "    with tf.device('/device:GPU:0'):\n",
        "        input = tf.keras.layers.Input(shape=(10,), name='input')\n",
        "        dense1 = tf.keras.layers.Dense(64, name='dense1',\n",
        "                                        kernel_initializer=tf.keras.initializers.RandomNormal(stddev=1.0/10),\n",
        "                                        bias_initializer=tf.keras.initializers.Zeros(),\n",
        "                                        activation='relu')(input)\n",
        "        dense2 = tf.keras.layers.Dense(16, \n",
        "                                        kernel_initializer=tf.keras.initializers.RandomNormal(stddev=1.0/64),\n",
        "                                        bias_initializer=tf.keras.initializers.Zeros(),\n",
        "                                        name='dense2', activation='relu')(dense1)\n",
        "        output = tf.keras.layers.Dense(1,\n",
        "                                        kernel_initializer=tf.keras.initializers.RandomNormal(stddev=1.0/16),\n",
        "                                        bias_initializer=tf.keras.initializers.Zeros(),\n",
        "                                        name='output', activation='sigmoid')(dense2)\n",
        "\n",
        "        model = tf.keras.models.Model(inputs=input, outputs=output)\n",
        "        optimizer = tf.keras.optimizers.Adam(learning_rate=0.001)\n",
        "        history = History()\n",
        "\n",
        "        model.compile(optimizer=optimizer, loss='binary_crossentropy', metrics=['accuracy'])\n",
        "        result = model.fit(Xt, Yt, validation_data=(Xv, Yv), epochs=30, batch_size=8, callbacks=[history])\n",
        "    return result.history"
      ],
      "metadata": {
        "id": "MbHQSkTRGj9X"
      },
      "execution_count": null,
      "outputs": []
    },
    {
      "cell_type": "code",
      "source": [
        "history = make_and_train_model(X1_train, X1_test, Y1_train, Y1_test)"
      ],
      "metadata": {
        "colab": {
          "base_uri": "https://localhost:8080/"
        },
        "id": "Jmzgl8PBIq-T",
        "outputId": "9c5f1c98-8102-418e-d417-9bf2556cb40e"
      },
      "execution_count": null,
      "outputs": [
        {
          "output_type": "stream",
          "name": "stdout",
          "text": [
            "Epoch 1/30\n",
            "9443/9443 [==============================] - 29s 3ms/step - loss: 0.6832 - accuracy: 0.5624 - val_loss: 0.6805 - val_accuracy: 0.5619\n",
            "Epoch 2/30\n",
            "9443/9443 [==============================] - 28s 3ms/step - loss: 0.6767 - accuracy: 0.5727 - val_loss: 0.6785 - val_accuracy: 0.5642\n",
            "Epoch 3/30\n",
            "9443/9443 [==============================] - 28s 3ms/step - loss: 0.6743 - accuracy: 0.5753 - val_loss: 0.6760 - val_accuracy: 0.5701\n",
            "Epoch 4/30\n",
            "9443/9443 [==============================] - 30s 3ms/step - loss: 0.6728 - accuracy: 0.5784 - val_loss: 0.6799 - val_accuracy: 0.5674\n",
            "Epoch 5/30\n",
            "9443/9443 [==============================] - 28s 3ms/step - loss: 0.6716 - accuracy: 0.5791 - val_loss: 0.6765 - val_accuracy: 0.5738\n",
            "Epoch 6/30\n",
            "9443/9443 [==============================] - 29s 3ms/step - loss: 0.6708 - accuracy: 0.5821 - val_loss: 0.6759 - val_accuracy: 0.5758\n",
            "Epoch 7/30\n",
            "9443/9443 [==============================] - 30s 3ms/step - loss: 0.6703 - accuracy: 0.5818 - val_loss: 0.6744 - val_accuracy: 0.5752\n",
            "Epoch 8/30\n",
            "9443/9443 [==============================] - 31s 3ms/step - loss: 0.6698 - accuracy: 0.5822 - val_loss: 0.6750 - val_accuracy: 0.5741\n",
            "Epoch 9/30\n",
            "9443/9443 [==============================] - 30s 3ms/step - loss: 0.6694 - accuracy: 0.5826 - val_loss: 0.6725 - val_accuracy: 0.5770\n",
            "Epoch 10/30\n",
            "9443/9443 [==============================] - 29s 3ms/step - loss: 0.6688 - accuracy: 0.5857 - val_loss: 0.6735 - val_accuracy: 0.5779\n",
            "Epoch 11/30\n",
            "9443/9443 [==============================] - 29s 3ms/step - loss: 0.6682 - accuracy: 0.5864 - val_loss: 0.6739 - val_accuracy: 0.5730\n",
            "Epoch 12/30\n",
            "9443/9443 [==============================] - 29s 3ms/step - loss: 0.6679 - accuracy: 0.5869 - val_loss: 0.6758 - val_accuracy: 0.5758\n",
            "Epoch 13/30\n",
            "9443/9443 [==============================] - 30s 3ms/step - loss: 0.6672 - accuracy: 0.5863 - val_loss: 0.6752 - val_accuracy: 0.5743\n",
            "Epoch 14/30\n",
            "9443/9443 [==============================] - 31s 3ms/step - loss: 0.6670 - accuracy: 0.5868 - val_loss: 0.6721 - val_accuracy: 0.5780\n",
            "Epoch 15/30\n",
            "9443/9443 [==============================] - 30s 3ms/step - loss: 0.6669 - accuracy: 0.5868 - val_loss: 0.6724 - val_accuracy: 0.5789\n",
            "Epoch 16/30\n",
            "9443/9443 [==============================] - 30s 3ms/step - loss: 0.6664 - accuracy: 0.5881 - val_loss: 0.6711 - val_accuracy: 0.5787\n",
            "Epoch 17/30\n",
            "9443/9443 [==============================] - 29s 3ms/step - loss: 0.6659 - accuracy: 0.5875 - val_loss: 0.6721 - val_accuracy: 0.5807\n",
            "Epoch 18/30\n",
            "9443/9443 [==============================] - 29s 3ms/step - loss: 0.6659 - accuracy: 0.5884 - val_loss: 0.6726 - val_accuracy: 0.5798\n",
            "Epoch 19/30\n",
            "9443/9443 [==============================] - 31s 3ms/step - loss: 0.6655 - accuracy: 0.5878 - val_loss: 0.6701 - val_accuracy: 0.5789\n",
            "Epoch 20/30\n",
            "9443/9443 [==============================] - 29s 3ms/step - loss: 0.6649 - accuracy: 0.5888 - val_loss: 0.6718 - val_accuracy: 0.5806\n",
            "Epoch 21/30\n",
            "9443/9443 [==============================] - 29s 3ms/step - loss: 0.6652 - accuracy: 0.5897 - val_loss: 0.6728 - val_accuracy: 0.5800\n",
            "Epoch 22/30\n",
            "9443/9443 [==============================] - 31s 3ms/step - loss: 0.6648 - accuracy: 0.5885 - val_loss: 0.6707 - val_accuracy: 0.5803\n",
            "Epoch 23/30\n",
            "9443/9443 [==============================] - 30s 3ms/step - loss: 0.6642 - accuracy: 0.5909 - val_loss: 0.6702 - val_accuracy: 0.5788\n",
            "Epoch 24/30\n",
            "9443/9443 [==============================] - 30s 3ms/step - loss: 0.6641 - accuracy: 0.5904 - val_loss: 0.6710 - val_accuracy: 0.5784\n",
            "Epoch 25/30\n",
            "9443/9443 [==============================] - 30s 3ms/step - loss: 0.6641 - accuracy: 0.5900 - val_loss: 0.6698 - val_accuracy: 0.5813\n",
            "Epoch 26/30\n",
            "9443/9443 [==============================] - 30s 3ms/step - loss: 0.6636 - accuracy: 0.5919 - val_loss: 0.6722 - val_accuracy: 0.5798\n",
            "Epoch 27/30\n",
            "9443/9443 [==============================] - 29s 3ms/step - loss: 0.6636 - accuracy: 0.5914 - val_loss: 0.6705 - val_accuracy: 0.5801\n",
            "Epoch 28/30\n",
            "9443/9443 [==============================] - 29s 3ms/step - loss: 0.6638 - accuracy: 0.5907 - val_loss: 0.6714 - val_accuracy: 0.5787\n",
            "Epoch 29/30\n",
            "9443/9443 [==============================] - 29s 3ms/step - loss: 0.6634 - accuracy: 0.5912 - val_loss: 0.6699 - val_accuracy: 0.5851\n",
            "Epoch 30/30\n",
            "9443/9443 [==============================] - 29s 3ms/step - loss: 0.6632 - accuracy: 0.5916 - val_loss: 0.6712 - val_accuracy: 0.5806\n"
          ]
        }
      ]
    },
    {
      "cell_type": "code",
      "source": [
        "print(X1.shape)\n",
        "print(X1_train.shape)\n",
        "print(X1_test.shape)\n",
        "acc = history['accuracy']\n",
        "val_acc = history['val_accuracy']\n",
        "print(max(acc), max(val_acc))"
      ],
      "metadata": {
        "colab": {
          "base_uri": "https://localhost:8080/"
        },
        "id": "t7aRcZCMU1IF",
        "outputId": "a29f4f6a-3c38-414c-9991-2248b34cab6f"
      },
      "execution_count": null,
      "outputs": [
        {
          "output_type": "stream",
          "name": "stdout",
          "text": [
            "(94427, 10)\n",
            "(75541, 10)\n",
            "(18886, 10)\n",
            "0.5918640494346619 0.5850895047187805\n"
          ]
        }
      ]
    },
    {
      "cell_type": "code",
      "source": [
        "import matplotlib.pyplot as plt"
      ],
      "metadata": {
        "id": "MhKidb4kjt8-"
      },
      "execution_count": null,
      "outputs": []
    },
    {
      "cell_type": "code",
      "source": [
        "epochs = list(range(1, 31))\n",
        "plt.title('Training and Validation Accuracies')\n",
        "plt.xlabel('Epoch')\n",
        "plt.ylabel('Accuracy')\n",
        "plt.plot(epochs, acc, label='Training')\n",
        "plt.plot(epochs, val_acc, label='Validation')\n",
        "plt.legend()"
      ],
      "metadata": {
        "colab": {
          "base_uri": "https://localhost:8080/",
          "height": 312
        },
        "id": "aPHgikTZj0Qz",
        "outputId": "4708765c-58f5-41c2-ece4-8874ae1e7234"
      },
      "execution_count": null,
      "outputs": [
        {
          "output_type": "execute_result",
          "data": {
            "text/plain": [
              "<matplotlib.legend.Legend at 0x7f66b02311d0>"
            ]
          },
          "metadata": {},
          "execution_count": 33
        },
        {
          "output_type": "display_data",
          "data": {
            "image/png": "[encoded data removed]",
            "text/plain": [
              "<Figure size 432x288 with 1 Axes>"
            ]
          },
          "metadata": {
            "needs_background": "light"
          }
        }
      ]
    }
  ]
}